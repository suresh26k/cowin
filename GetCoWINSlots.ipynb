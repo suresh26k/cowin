{
 "cells": [
  {
   "cell_type": "markdown",
   "id": "f5c493fc",
   "metadata": {
    "ExecuteTime": {
     "end_time": "2021-05-14T16:54:04.457172Z",
     "start_time": "2021-05-14T16:54:04.454830Z"
    }
   },
   "source": [
    "# COWIN"
   ]
  },
  {
   "cell_type": "code",
   "execution_count": 1,
   "id": "f3e91924",
   "metadata": {
    "ExecuteTime": {
     "end_time": "2021-05-14T18:31:40.641481Z",
     "start_time": "2021-05-14T18:31:40.011490Z"
    }
   },
   "outputs": [],
   "source": [
    "# Imports\n",
    "\n",
    "import http.client\n",
    "import mimetypes\n",
    "import datetime\n",
    "import pandas as pd\n",
    "import json"
   ]
  },
  {
   "cell_type": "code",
   "execution_count": 2,
   "id": "e52cfec8",
   "metadata": {
    "ExecuteTime": {
     "end_time": "2021-05-14T18:31:40.651958Z",
     "start_time": "2021-05-14T18:31:40.648157Z"
    }
   },
   "outputs": [],
   "source": [
    "# API\n",
    "COWIN_API = \"cdn-api.co-vin.in\"\n",
    "COWIN_API_SUFFIX = \"/api/v2/appointment/sessions/public/calendarByDistrict?district_id=513&date=\"\n",
    "\n",
    "# Date to query\n",
    "TOMORROW = (datetime.date.today() + datetime.timedelta(days=1)).strftime(\"%d-%m-%Y\")"
   ]
  },
  {
   "cell_type": "code",
   "execution_count": 3,
   "id": "5e6ab5dd",
   "metadata": {
    "ExecuteTime": {
     "end_time": "2021-05-14T18:31:40.992934Z",
     "start_time": "2021-05-14T18:31:40.654305Z"
    }
   },
   "outputs": [],
   "source": [
    "# Get Availability\n",
    "\n",
    "conn = http.client.HTTPSConnection(COWIN_API)\n",
    "payload = ''\n",
    "headers = {}\n",
    "conn.request(\"GET\", COWIN_API_SUFFIX+TOMORROW, payload, headers)\n",
    "res = conn.getresponse()\n",
    "data = res.read().decode(\"utf-8\")"
   ]
  },
  {
   "cell_type": "code",
   "execution_count": 4,
   "id": "1a1f2d9c",
   "metadata": {
    "ExecuteTime": {
     "end_time": "2021-05-14T18:31:41.005118Z",
     "start_time": "2021-05-14T18:31:40.995553Z"
    }
   },
   "outputs": [],
   "source": [
    "# All vaccine centers & dropping columns\n",
    "all_vaccine_centers_df = pd.DataFrame(\n",
    "    json.loads(data)['centers']\n",
    ").drop(\n",
    "    columns=[\n",
    "        'address', \n",
    "        'state_name', \n",
    "        'lat', \n",
    "        'long', \n",
    "        'from', \n",
    "        'to'\n",
    "    ]\n",
    ")"
   ]
  },
  {
   "cell_type": "code",
   "execution_count": 5,
   "id": "098ec920",
   "metadata": {
    "ExecuteTime": {
     "end_time": "2021-05-14T18:31:41.013124Z",
     "start_time": "2021-05-14T18:31:41.008961Z"
    }
   },
   "outputs": [],
   "source": [
    "# all_vaccine_centers_df['sessions'].apply(pd.Series)[0].apply(pd.Series)"
   ]
  },
  {
   "cell_type": "code",
   "execution_count": 6,
   "id": "552543e3",
   "metadata": {
    "ExecuteTime": {
     "end_time": "2021-05-14T18:31:41.034147Z",
     "start_time": "2021-05-14T18:31:41.019967Z"
    }
   },
   "outputs": [],
   "source": [
    "# SPLITS SESSION\n",
    "vaccine_sessions_df = pd.concat([all_vaccine_centers_df.drop('sessions', axis=1), all_vaccine_centers_df['sessions'].apply(pd.Series)[0].apply(pd.Series)], axis=1)"
   ]
  },
  {
   "cell_type": "code",
   "execution_count": 7,
   "id": "7c55f837",
   "metadata": {
    "ExecuteTime": {
     "end_time": "2021-05-14T18:31:41.071158Z",
     "start_time": "2021-05-14T18:31:41.038061Z"
    }
   },
   "outputs": [
    {
     "data": {
      "text/html": [
       "<div>\n",
       "<style scoped>\n",
       "    .dataframe tbody tr th:only-of-type {\n",
       "        vertical-align: middle;\n",
       "    }\n",
       "\n",
       "    .dataframe tbody tr th {\n",
       "        vertical-align: top;\n",
       "    }\n",
       "\n",
       "    .dataframe thead th {\n",
       "        text-align: right;\n",
       "    }\n",
       "</style>\n",
       "<table border=\"1\" class=\"dataframe\">\n",
       "  <thead>\n",
       "    <tr style=\"text-align: right;\">\n",
       "      <th></th>\n",
       "      <th>center_id</th>\n",
       "      <th>name</th>\n",
       "      <th>district_name</th>\n",
       "      <th>block_name</th>\n",
       "      <th>pincode</th>\n",
       "      <th>fee_type</th>\n",
       "      <th>session_id</th>\n",
       "      <th>date</th>\n",
       "      <th>available_capacity</th>\n",
       "      <th>min_age_limit</th>\n",
       "      <th>vaccine</th>\n",
       "      <th>slots</th>\n",
       "    </tr>\n",
       "  </thead>\n",
       "  <tbody>\n",
       "    <tr>\n",
       "      <th>0</th>\n",
       "      <td>639919</td>\n",
       "      <td>Shri K M Memorial Hospital Skr</td>\n",
       "      <td>Sikar</td>\n",
       "      <td>Sikar Urban</td>\n",
       "      <td>332001</td>\n",
       "      <td>Paid</td>\n",
       "      <td>9f27363b-c7bf-4a83-aa1f-5544514d6204</td>\n",
       "      <td>16-05-2021</td>\n",
       "      <td>0</td>\n",
       "      <td>45</td>\n",
       "      <td>COVISHIELD</td>\n",
       "      <td>[09:00AM-11:00AM, 11:00AM-01:00PM, 01:00PM-03:...</td>\n",
       "    </tr>\n",
       "  </tbody>\n",
       "</table>\n",
       "</div>"
      ],
      "text/plain": [
       "   center_id                            name district_name   block_name  \\\n",
       "0     639919  Shri K M Memorial Hospital Skr         Sikar  Sikar Urban   \n",
       "\n",
       "   pincode fee_type                            session_id        date  \\\n",
       "0   332001     Paid  9f27363b-c7bf-4a83-aa1f-5544514d6204  16-05-2021   \n",
       "\n",
       "   available_capacity  min_age_limit     vaccine  \\\n",
       "0                   0             45  COVISHIELD   \n",
       "\n",
       "                                               slots  \n",
       "0  [09:00AM-11:00AM, 11:00AM-01:00PM, 01:00PM-03:...  "
      ]
     },
     "execution_count": 7,
     "metadata": {},
     "output_type": "execute_result"
    }
   ],
   "source": [
    "vaccine_sessions_df"
   ]
  },
  {
   "cell_type": "code",
   "execution_count": 8,
   "id": "5cb489bd",
   "metadata": {
    "ExecuteTime": {
     "end_time": "2021-05-14T18:31:41.076392Z",
     "start_time": "2021-05-14T18:31:41.073497Z"
    }
   },
   "outputs": [],
   "source": [
    "# vaccine_centers_df.set_index('name').sessions.apply(pd.Series).stack().reset_index(level=-1, drop=True).astype(str).reset_index()\n",
    "# vaccine_sessions_df = all_vaccine_centers_df.set_index('center_id').sessions.apply(pd.Series).stack().reset_index(level=-1, drop=True).astype(str).reset_index()"
   ]
  },
  {
   "cell_type": "code",
   "execution_count": 9,
   "id": "6702996b",
   "metadata": {
    "ExecuteTime": {
     "end_time": "2021-05-14T18:31:41.095884Z",
     "start_time": "2021-05-14T18:31:41.079583Z"
    }
   },
   "outputs": [
    {
     "data": {
      "text/html": [
       "<div>\n",
       "<style scoped>\n",
       "    .dataframe tbody tr th:only-of-type {\n",
       "        vertical-align: middle;\n",
       "    }\n",
       "\n",
       "    .dataframe tbody tr th {\n",
       "        vertical-align: top;\n",
       "    }\n",
       "\n",
       "    .dataframe thead th {\n",
       "        text-align: right;\n",
       "    }\n",
       "</style>\n",
       "<table border=\"1\" class=\"dataframe\">\n",
       "  <thead>\n",
       "    <tr style=\"text-align: right;\">\n",
       "      <th></th>\n",
       "      <th>center_id</th>\n",
       "      <th>name</th>\n",
       "      <th>district_name</th>\n",
       "      <th>block_name</th>\n",
       "      <th>pincode</th>\n",
       "      <th>fee_type</th>\n",
       "      <th>session_id</th>\n",
       "      <th>date</th>\n",
       "      <th>available_capacity</th>\n",
       "      <th>min_age_limit</th>\n",
       "      <th>vaccine</th>\n",
       "      <th>slots</th>\n",
       "    </tr>\n",
       "  </thead>\n",
       "  <tbody>\n",
       "    <tr>\n",
       "      <th>0</th>\n",
       "      <td>639919</td>\n",
       "      <td>Shri K M Memorial Hospital Skr</td>\n",
       "      <td>Sikar</td>\n",
       "      <td>Sikar Urban</td>\n",
       "      <td>332001</td>\n",
       "      <td>Paid</td>\n",
       "      <td>9f27363b-c7bf-4a83-aa1f-5544514d6204</td>\n",
       "      <td>16-05-2021</td>\n",
       "      <td>0</td>\n",
       "      <td>45</td>\n",
       "      <td>COVISHIELD</td>\n",
       "      <td>[09:00AM-11:00AM, 11:00AM-01:00PM, 01:00PM-03:...</td>\n",
       "    </tr>\n",
       "  </tbody>\n",
       "</table>\n",
       "</div>"
      ],
      "text/plain": [
       "   center_id                            name district_name   block_name  \\\n",
       "0     639919  Shri K M Memorial Hospital Skr         Sikar  Sikar Urban   \n",
       "\n",
       "   pincode fee_type                            session_id        date  \\\n",
       "0   332001     Paid  9f27363b-c7bf-4a83-aa1f-5544514d6204  16-05-2021   \n",
       "\n",
       "   available_capacity  min_age_limit     vaccine  \\\n",
       "0                   0             45  COVISHIELD   \n",
       "\n",
       "                                               slots  \n",
       "0  [09:00AM-11:00AM, 11:00AM-01:00PM, 01:00PM-03:...  "
      ]
     },
     "execution_count": 9,
     "metadata": {},
     "output_type": "execute_result"
    }
   ],
   "source": [
    "vaccine_sessions_df"
   ]
  },
  {
   "cell_type": "code",
   "execution_count": 10,
   "id": "3c9394a4",
   "metadata": {
    "ExecuteTime": {
     "end_time": "2021-05-14T18:31:41.108630Z",
     "start_time": "2021-05-14T18:31:41.098879Z"
    }
   },
   "outputs": [],
   "source": [
    "# Removing unavailable centers\n",
    "available_centers_df = vaccine_sessions_df[\n",
    "    vaccine_sessions_df.available_capacity != 0\n",
    "].drop(\n",
    "    columns=[\n",
    "        'session_id', \n",
    "        'slots'\n",
    "    ]\n",
    ")"
   ]
  },
  {
   "cell_type": "code",
   "execution_count": 11,
   "id": "9d1e9601",
   "metadata": {
    "ExecuteTime": {
     "end_time": "2021-05-14T18:31:41.127500Z",
     "start_time": "2021-05-14T18:31:41.112128Z"
    }
   },
   "outputs": [
    {
     "data": {
      "text/html": [
       "<div>\n",
       "<style scoped>\n",
       "    .dataframe tbody tr th:only-of-type {\n",
       "        vertical-align: middle;\n",
       "    }\n",
       "\n",
       "    .dataframe tbody tr th {\n",
       "        vertical-align: top;\n",
       "    }\n",
       "\n",
       "    .dataframe thead th {\n",
       "        text-align: right;\n",
       "    }\n",
       "</style>\n",
       "<table border=\"1\" class=\"dataframe\">\n",
       "  <thead>\n",
       "    <tr style=\"text-align: right;\">\n",
       "      <th></th>\n",
       "      <th>center_id</th>\n",
       "      <th>name</th>\n",
       "      <th>district_name</th>\n",
       "      <th>block_name</th>\n",
       "      <th>pincode</th>\n",
       "      <th>fee_type</th>\n",
       "      <th>date</th>\n",
       "      <th>available_capacity</th>\n",
       "      <th>min_age_limit</th>\n",
       "      <th>vaccine</th>\n",
       "    </tr>\n",
       "  </thead>\n",
       "  <tbody>\n",
       "  </tbody>\n",
       "</table>\n",
       "</div>"
      ],
      "text/plain": [
       "Empty DataFrame\n",
       "Columns: [center_id, name, district_name, block_name, pincode, fee_type, date, available_capacity, min_age_limit, vaccine]\n",
       "Index: []"
      ]
     },
     "execution_count": 11,
     "metadata": {},
     "output_type": "execute_result"
    }
   ],
   "source": [
    "# Available centers for 18 plus\n",
    "available_centers_18_df = available_centers_df[\n",
    "    available_centers_df.min_age_limit == 18\n",
    "]\n",
    "available_centers_18_df"
   ]
  },
  {
   "cell_type": "code",
   "execution_count": 12,
   "id": "f5b80bda",
   "metadata": {
    "ExecuteTime": {
     "end_time": "2021-05-14T18:31:41.142377Z",
     "start_time": "2021-05-14T18:31:41.130230Z"
    }
   },
   "outputs": [
    {
     "data": {
      "text/html": [
       "<div>\n",
       "<style scoped>\n",
       "    .dataframe tbody tr th:only-of-type {\n",
       "        vertical-align: middle;\n",
       "    }\n",
       "\n",
       "    .dataframe tbody tr th {\n",
       "        vertical-align: top;\n",
       "    }\n",
       "\n",
       "    .dataframe thead th {\n",
       "        text-align: right;\n",
       "    }\n",
       "</style>\n",
       "<table border=\"1\" class=\"dataframe\">\n",
       "  <thead>\n",
       "    <tr style=\"text-align: right;\">\n",
       "      <th></th>\n",
       "      <th>center_id</th>\n",
       "      <th>name</th>\n",
       "      <th>district_name</th>\n",
       "      <th>block_name</th>\n",
       "      <th>pincode</th>\n",
       "      <th>fee_type</th>\n",
       "      <th>date</th>\n",
       "      <th>available_capacity</th>\n",
       "      <th>min_age_limit</th>\n",
       "      <th>vaccine</th>\n",
       "    </tr>\n",
       "  </thead>\n",
       "  <tbody>\n",
       "  </tbody>\n",
       "</table>\n",
       "</div>"
      ],
      "text/plain": [
       "Empty DataFrame\n",
       "Columns: [center_id, name, district_name, block_name, pincode, fee_type, date, available_capacity, min_age_limit, vaccine]\n",
       "Index: []"
      ]
     },
     "execution_count": 12,
     "metadata": {},
     "output_type": "execute_result"
    }
   ],
   "source": [
    "# Available centers for 45 plus\n",
    "available_centers_45_df = available_centers_df[\n",
    "    available_centers_df.min_age_limit == 45\n",
    "]\n",
    "available_centers_45_df"
   ]
  },
  {
   "cell_type": "code",
   "execution_count": null,
   "id": "2da0f186",
   "metadata": {},
   "outputs": [],
   "source": []
  }
 ],
 "metadata": {
  "kernelspec": {
   "display_name": "Python 3",
   "language": "python",
   "name": "python3"
  },
  "language_info": {
   "codemirror_mode": {
    "name": "ipython",
    "version": 3
   },
   "file_extension": ".py",
   "mimetype": "text/x-python",
   "name": "python",
   "nbconvert_exporter": "python",
   "pygments_lexer": "ipython3",
   "version": "3.8.7"
  }
 },
 "nbformat": 4,
 "nbformat_minor": 5
}
